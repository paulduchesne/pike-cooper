{
 "cells": [
  {
   "cell_type": "markdown",
   "metadata": {},
   "source": [
    "**Wikibase/Wikidata linking.**\n",
    "\n",
    "Generated links embedded into Wikibase."
   ]
  },
  {
   "cell_type": "code",
   "execution_count": 21,
   "metadata": {},
   "outputs": [
    {
     "name": "stdout",
     "output_type": "stream",
     "text": [
      "[{'entity': {'labels': {'en': {'language': 'en', 'value': 'formatter URL'}}, 'descriptions': {'en': {'language': 'en', 'value': 'https://www.wikidata.org/wiki/$1'}}, 'aliases': {}, 'claims': {}, 'id': 'P7', 'type': 'property', 'lastrevid': 3664}, 'success': 1}]\n"
     ]
    }
   ],
   "source": [
    "\n",
    "import pandas, pathlib, time, pydash\n",
    "from wikibase_api import Wikibase\n",
    "\n",
    "\"\"\"\n",
    "The last stage of the process is to embed the discovered Wikidata links into the Wikibase instance.\n",
    "Note that this does require some manual configuration to function properly.\n",
    "\n",
    "A description of this process is described here: \n",
    "https://stuff.coffeecode.net/2018/wikibase-workshop-swib18.html#_supporting_links_to_external_vocabularies\n",
    "\"\"\"\n",
    "\n",
    "def add_property(label, description, flavour, data):\n",
    "    \n",
    "    content = {\"labels\":{\"en\":{\"language\":\"en\",\"value\":label}},\n",
    "            \"descriptions\":{\"en\":{\"language\":\"en\",\"value\":description}},\n",
    "            \"datatype\":flavour}\n",
    "    r = wb.entity.add(\"property\", content)\n",
    "    data.append(r)\n",
    "    time.sleep(1)    \n",
    "    return(r)  \n",
    "\n",
    "scaffold = list()\n",
    "config_path = pathlib.Path.cwd().resolve().parents[0] / 'data' / '1_wikibase_instance' / 'config.json'\n",
    "wb = Wikibase(config_path=config_path)\n",
    "add_property('formatter URL', 'https://www.wikidata.org/wiki/$1', 'string', scaffold)\n",
    "\n",
    "\"\"\"\n",
    "Wikidata property could be populated, but it would not be an active link.\n",
    "To achieve this, add $wgWBRepoSettings['formatterUrlProperty'] = ##formatter URL property number## into LocalSettings.php\n",
    "\n",
    "Docker image may require a reboot, after which link should be active and process complete.\n",
    "\"\"\"\n",
    "\n",
    "print(scaffold)\n"
   ]
  },
  {
   "cell_type": "code",
   "execution_count": 22,
   "metadata": {},
   "outputs": [
    {
     "name": "stdout",
     "output_type": "stream",
     "text": [
      "{'formatter URL': 'P7', 'Wikidata ID': 'P8'}\n"
     ]
    }
   ],
   "source": [
    "\n",
    "add_property('Wikidata ID', 'Wikidata Identifier', 'external-id', scaffold)\n",
    "built = {pydash.get(x, 'entity.labels.en.value'):pydash.get(x, 'entity.id') for x in scaffold}\n",
    "wb.claim.add(built['Wikidata ID'], built['formatter URL'], 'https://www.wikidata.org/wiki/$1')\n",
    "\n",
    "print(built)\n"
   ]
  },
  {
   "cell_type": "code",
   "execution_count": 23,
   "metadata": {},
   "outputs": [
    {
     "name": "stdout",
     "output_type": "stream",
     "text": [
      "all done.\n"
     ]
    }
   ],
   "source": [
    "\n",
    "link_path = pathlib.Path.cwd().resolve().parents[0] / 'data' / '3_matching'\n",
    "link = pandas.read_csv(link_path / 'wikibase_wikidata_links.csv')\n",
    "link = list(zip(list(link.wikibase), list(link.wikidata)))\n",
    "\n",
    "for base, data in link:\n",
    "    wb.claim.add(base, built['Wikidata ID'], data)\n",
    "print('all done.')\n"
   ]
  }
 ],
 "metadata": {
  "kernelspec": {
   "display_name": "Python 3",
   "language": "python",
   "name": "python3"
  },
  "language_info": {
   "codemirror_mode": {
    "name": "ipython",
    "version": 3
   },
   "file_extension": ".py",
   "mimetype": "text/x-python",
   "name": "python",
   "nbconvert_exporter": "python",
   "pygments_lexer": "ipython3",
   "version": "3.7.4"
  }
 },
 "nbformat": 4,
 "nbformat_minor": 4
}
