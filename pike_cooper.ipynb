{
 "cells": [
  {
   "cell_type": "code",
   "execution_count": null,
   "metadata": {},
   "outputs": [],
   "source": [
    "import json\n",
    "import pandas\n",
    "import pathlib\n",
    "import pydash\n",
    "import subprocess\n",
    "\n",
    "dataframe = pandas.read_csv(pathlib.Path.cwd() / 'pike_cooper.csv')\n",
    "\n",
    "if not (pathlib.Path.cwd() / 'acmi-api').exists():\n",
    "    subprocess.call(['git', 'clone', 'https://github.com/ACMILabs/acmi-api.git', '--depth', '1'])\n",
    "\n",
    "acmi_path = pathlib.Path.cwd() / 'acmi-api' / 'app' / 'json' / 'works'\n",
    "acmi_files = [x for x in acmi_path.iterdir() if x.suffix == '.json']\n",
    "\n",
    "matched_holdings = pandas.DataFrame(columns=['wikidata_id', 'acmi_holdings'])\n",
    "\n",
    "for x in acmi_files:\n",
    "    with open(x) as data:\n",
    "        data = json.load(data)\n",
    "    if 'external_references' in data and 'id' in data:\n",
    "        for y in [y for y in data['external_references'] if pydash.get(y, 'source.name') == 'Wikidata']:\n",
    "            if y['source_identifier'] in dataframe.wikidata_id.unique():\n",
    "                acmi_holdings = [z['name'] for z in data['holdings']]\n",
    "                if acmi_holdings:\n",
    "                    matched_holdings.loc[len(matched_holdings)] = [(y['source_identifier']), (acmi_holdings)]\n",
    "                    \n",
    "dataframe = pandas.merge(dataframe, matched_holdings, on='wikidata_id', how='left')\n",
    "dataframe['acmi_holdings'] = dataframe['acmi_holdings'].fillna('')\n",
    "\n",
    "# print(json.dumps(dataframe.to_dict('records'), indent=4))"
   ]
  }
 ],
 "metadata": {
  "kernelspec": {
   "display_name": "Python 3",
   "language": "python",
   "name": "python3"
  },
  "language_info": {
   "codemirror_mode": {
    "name": "ipython",
    "version": 3
   },
   "file_extension": ".py",
   "mimetype": "text/x-python",
   "name": "python",
   "nbconvert_exporter": "python",
   "pygments_lexer": "ipython3",
   "version": "3.9.6"
  },
  "orig_nbformat": 4
 },
 "nbformat": 4,
 "nbformat_minor": 2
}
